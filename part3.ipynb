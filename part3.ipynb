{
 "cells": [
  {
   "cell_type": "code",
   "execution_count": 3,
   "metadata": {},
   "outputs": [],
   "source": [
    "import pandas as pd\n",
    "\n",
    "data = pd.read_csv('troop_movements10m.csv')"
   ]
  },
  {
   "cell_type": "code",
   "execution_count": 4,
   "metadata": {},
   "outputs": [
    {
     "name": "stdout",
     "output_type": "stream",
     "text": [
      "<bound method DataFrame.sum of          timestamp  unit_id  unit_type  location_x  location_y  destination_x  \\\n",
      "0            False    False      False       False       False          False   \n",
      "1            False    False      False       False       False          False   \n",
      "2            False    False      False       False       False          False   \n",
      "3            False    False      False       False       False          False   \n",
      "4            False    False      False       False       False          False   \n",
      "...            ...      ...        ...         ...         ...            ...   \n",
      "9999995      False    False      False       False       False          False   \n",
      "9999996      False    False      False       False       False          False   \n",
      "9999997      False    False      False       False       False          False   \n",
      "9999998      False    False      False       False       False          False   \n",
      "9999999      False    False      False        True        True          False   \n",
      "\n",
      "         destination_y  homeworld  \n",
      "0                False      False  \n",
      "1                False      False  \n",
      "2                False      False  \n",
      "3                False      False  \n",
      "4                False      False  \n",
      "...                ...        ...  \n",
      "9999995          False      False  \n",
      "9999996          False      False  \n",
      "9999997          False      False  \n",
      "9999998          False      False  \n",
      "9999999          False      False  \n",
      "\n",
      "[10000000 rows x 8 columns]>\n"
     ]
    }
   ],
   "source": [
    "print(data.isnull().sum)"
   ]
  },
  {
   "cell_type": "code",
   "execution_count": 5,
   "metadata": {},
   "outputs": [],
   "source": [
    "data['unit_type'].replace('invalid_unit', 'unknown', inplace=True)"
   ]
  },
  {
   "cell_type": "code",
   "execution_count": 6,
   "metadata": {},
   "outputs": [
    {
     "name": "stderr",
     "output_type": "stream",
     "text": [
      "C:\\Users\\wasadmin\\AppData\\Local\\Temp\\ipykernel_2056\\1743544928.py:1: FutureWarning: A value is trying to be set on a copy of a DataFrame or Series through chained assignment using an inplace method.\n",
      "The behavior will change in pandas 3.0. This inplace method will never work because the intermediate object on which we are setting values always behaves as a copy.\n",
      "\n",
      "For example, when doing 'df[col].method(value, inplace=True)', try using 'df.method({col: value}, inplace=True)' or df[col] = df[col].method(value) instead, to perform the operation inplace on the original object.\n",
      "\n",
      "\n",
      "  data['location_x'].fillna(method='ffill', inplace=True)\n",
      "C:\\Users\\wasadmin\\AppData\\Local\\Temp\\ipykernel_2056\\1743544928.py:1: FutureWarning: Series.fillna with 'method' is deprecated and will raise in a future version. Use obj.ffill() or obj.bfill() instead.\n",
      "  data['location_x'].fillna(method='ffill', inplace=True)\n",
      "C:\\Users\\wasadmin\\AppData\\Local\\Temp\\ipykernel_2056\\1743544928.py:2: FutureWarning: A value is trying to be set on a copy of a DataFrame or Series through chained assignment using an inplace method.\n",
      "The behavior will change in pandas 3.0. This inplace method will never work because the intermediate object on which we are setting values always behaves as a copy.\n",
      "\n",
      "For example, when doing 'df[col].method(value, inplace=True)', try using 'df.method({col: value}, inplace=True)' or df[col] = df[col].method(value) instead, to perform the operation inplace on the original object.\n",
      "\n",
      "\n",
      "  data['location_y'].fillna(method='ffill', inplace=True)\n",
      "C:\\Users\\wasadmin\\AppData\\Local\\Temp\\ipykernel_2056\\1743544928.py:2: FutureWarning: Series.fillna with 'method' is deprecated and will raise in a future version. Use obj.ffill() or obj.bfill() instead.\n",
      "  data['location_y'].fillna(method='ffill', inplace=True)\n"
     ]
    }
   ],
   "source": [
    "data['location_x'].fillna(method='ffill', inplace=True)\n",
    "data['location_y'].fillna(method='ffill', inplace=True)"
   ]
  },
  {
   "cell_type": "code",
   "execution_count": 7,
   "metadata": {},
   "outputs": [
    {
     "name": "stdout",
     "output_type": "stream",
     "text": [
      "timestamp        0\n",
      "unit_id          0\n",
      "unit_type        0\n",
      "location_x       0\n",
      "location_y       0\n",
      "destination_x    0\n",
      "destination_y    0\n",
      "homeworld        0\n",
      "dtype: int64\n"
     ]
    }
   ],
   "source": [
    "print(data.isnull().sum())"
   ]
  },
  {
   "cell_type": "code",
   "execution_count": 9,
   "metadata": {},
   "outputs": [
    {
     "name": "stdout",
     "output_type": "stream",
     "text": [
      "                   timestamp   unit_id           unit_type  location_x  \\\n",
      "0        2023-06-13 17:33:18         1               at-st         2.0   \n",
      "1        2023-06-13 17:33:17         2        tie_silencer         4.0   \n",
      "2        2023-06-13 17:33:16         3               at-at         0.0   \n",
      "3        2023-06-13 17:33:15         4        tie_silencer         6.0   \n",
      "4        2023-06-13 17:33:14         5         tie_fighter         0.0   \n",
      "...                      ...       ...                 ...         ...   \n",
      "9999995  2023-02-18 10:26:20   9999996  resistance_soldier         6.0   \n",
      "9999996  2023-02-18 10:26:19   9999997        tie_silencer         8.0   \n",
      "9999997  2023-02-18 10:26:18   9999998         tie_fighter         7.0   \n",
      "9999998  2023-02-18 10:26:17   9999999         tie_fighter         6.0   \n",
      "9999999  2023-02-18 10:26:16  10000000             unknown         6.0   \n",
      "\n",
      "         location_y  destination_x  destination_y    homeworld  \n",
      "0               8.0              1              1  Glee Anselm  \n",
      "1               4.0              0              1    Trandosha  \n",
      "2               3.0              6              1     Corellia  \n",
      "3               1.0              6              9        Shili  \n",
      "4               4.0              9              6   Muunilinst  \n",
      "...             ...            ...            ...          ...  \n",
      "9999995         6.0              1              3      Troiken  \n",
      "9999996         6.0              2              0     Kashyyyk  \n",
      "9999997         7.0              6              4     Kashyyyk  \n",
      "9999998         6.0              8              8        Kalee  \n",
      "9999999         6.0              3              0        Skako  \n",
      "\n",
      "[10000000 rows x 8 columns]\n"
     ]
    }
   ],
   "source": [
    "df = pd.DataFrame(data)\n",
    "print(df)"
   ]
  },
  {
   "cell_type": "code",
   "execution_count": 12,
   "metadata": {},
   "outputs": [],
   "source": [
    "data.to_csv('troop_movements10m.csv', index=False)"
   ]
  },
  {
   "cell_type": "code",
   "execution_count": 15,
   "metadata": {},
   "outputs": [
    {
     "name": "stdout",
     "output_type": "stream",
     "text": [
      "               timestamp  unit_id           unit_type empire_or_resistance  \\\n",
      "0    2024-07-11 09:58:43        1               at-st           resistance   \n",
      "1    2024-07-11 09:58:42        2               at-st           resistance   \n",
      "2    2024-07-11 09:58:41        3         tie_fighter           resistance   \n",
      "3    2024-07-11 09:58:40        4        tie_silencer               empire   \n",
      "4    2024-07-11 09:58:39        5        tie_silencer               empire   \n",
      "..                   ...      ...                 ...                  ...   \n",
      "995  2024-07-11 09:42:08      996        tie_silencer               empire   \n",
      "996  2024-07-11 09:42:07      997              x-wing           resistance   \n",
      "997  2024-07-11 09:42:06      998               at-st           resistance   \n",
      "998  2024-07-11 09:42:05      999        tie_silencer               empire   \n",
      "999  2024-07-11 09:42:04     1000  resistance_soldier           resistance   \n",
      "\n",
      "     location_x  location_y  destination_x  destination_y    homeworld  \n",
      "0             4           5              6             10        Cerea  \n",
      "1             8           5              4              4  Aleen Minor  \n",
      "2             6           2              5              8    Malastare  \n",
      "3             1           1              3              8        Cerea  \n",
      "4             6           3              4              8   Bestine IV  \n",
      "..          ...         ...            ...            ...          ...  \n",
      "995           3          10              7              2       Ryloth  \n",
      "996           1           8              8              6   Muunilinst  \n",
      "997           8           6              9              3   Bestine IV  \n",
      "998           6           4              4             10  Aleen Minor  \n",
      "999           6           5              4              8        Cerea  \n",
      "\n",
      "[1000 rows x 9 columns]\n"
     ]
    }
   ],
   "source": [
    "cleaned_data = pd.read_csv('troop_movementS.csv')\n",
    "print(cleaned_data)"
   ]
  },
  {
   "cell_type": "code",
   "execution_count": null,
   "metadata": {},
   "outputs": [],
   "source": []
  }
 ],
 "metadata": {
  "kernelspec": {
   "display_name": "Python 3",
   "language": "python",
   "name": "python3"
  },
  "language_info": {
   "codemirror_mode": {
    "name": "ipython",
    "version": 3
   },
   "file_extension": ".py",
   "mimetype": "text/x-python",
   "name": "python",
   "nbconvert_exporter": "python",
   "pygments_lexer": "ipython3",
   "version": "3.12.3"
  }
 },
 "nbformat": 4,
 "nbformat_minor": 2
}
