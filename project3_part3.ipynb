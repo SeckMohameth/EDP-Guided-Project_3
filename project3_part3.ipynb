{
 "cells": [
  {
   "cell_type": "code",
   "execution_count": 13,
   "metadata": {},
   "outputs": [
    {
     "name": "stdout",
     "output_type": "stream",
     "text": [
      "             timestamp  unit_id     unit_type  location_x  location_y  \\\n",
      "0  2023-06-13 17:33:18        1         at-st         2.0         8.0   \n",
      "1  2023-06-13 17:33:17        2  tie_silencer         4.0         4.0   \n",
      "2  2023-06-13 17:33:16        3         at-at         0.0         3.0   \n",
      "3  2023-06-13 17:33:15        4  tie_silencer         6.0         1.0   \n",
      "4  2023-06-13 17:33:14        5   tie_fighter         0.0         4.0   \n",
      "\n",
      "   destination_x  destination_y    homeworld  \n",
      "0              1              1  Glee Anselm  \n",
      "1              0              1    Trandosha  \n",
      "2              6              1     Corellia  \n",
      "3              6              9        Shili  \n",
      "4              9              6   Muunilinst  \n"
     ]
    }
   ],
   "source": [
    "import pandas as pd\n",
    "\n",
    "data = pd.read_csv(\"troop_movements10m.csv\")\n",
    "print(data.head())"
   ]
  },
  {
   "cell_type": "code",
   "execution_count": 14,
   "metadata": {},
   "outputs": [
    {
     "name": "stdout",
     "output_type": "stream",
     "text": [
      "             timestamp  unit_id     unit_type  location_x  location_y  \\\n",
      "0  2023-06-13 17:33:18        1         at-st         2.0         8.0   \n",
      "1  2023-06-13 17:33:17        2  tie_silencer         4.0         4.0   \n",
      "2  2023-06-13 17:33:16        3         at-at         0.0         3.0   \n",
      "3  2023-06-13 17:33:15        4  tie_silencer         6.0         1.0   \n",
      "4  2023-06-13 17:33:14        5   tie_fighter         0.0         4.0   \n",
      "\n",
      "   destination_x  destination_y    homeworld  \n",
      "0              1              1  Glee Anselm  \n",
      "1              0              1    Trandosha  \n",
      "2              6              1     Corellia  \n",
      "3              6              9        Shili  \n",
      "4              9              6   Muunilinst  \n"
     ]
    }
   ],
   "source": [
    "data[\"unit_type\"] = data[\"unit_type\"].apply(lambda x: \"unknown\" if x == \"invalid_unit\" else x)\n",
    "data[\"location_x\"] = data[\"location_x\"].ffill()\n",
    "data[\"location_y\"] = data[\"location_y\"].ffill()\n",
    "print(data.head())"
   ]
  },
  {
   "cell_type": "code",
   "execution_count": 18,
   "metadata": {},
   "outputs": [
    {
     "name": "stdout",
     "output_type": "stream",
     "text": [
      "Defaulting to user installation because normal site-packages is not writeable\n",
      "Requirement already satisfied: pyarrow in c:\\users\\wasadmin\\appdata\\roaming\\python\\python312\\site-packages (16.1.0)\n",
      "Requirement already satisfied: numpy>=1.16.6 in c:\\users\\wasadmin\\appdata\\roaming\\python\\python312\\site-packages (from pyarrow) (1.26.4)\n"
     ]
    }
   ],
   "source": [
    "! pip install pyarrow"
   ]
  },
  {
   "cell_type": "code",
   "execution_count": null,
   "metadata": {},
   "outputs": [],
   "source": []
  }
 ],
 "metadata": {
  "kernelspec": {
   "display_name": "Python 3",
   "language": "python",
   "name": "python3"
  },
  "language_info": {
   "codemirror_mode": {
    "name": "ipython",
    "version": 3
   },
   "file_extension": ".py",
   "mimetype": "text/x-python",
   "name": "python",
   "nbconvert_exporter": "python",
   "pygments_lexer": "ipython3",
   "version": "3.12.3"
  }
 },
 "nbformat": 4,
 "nbformat_minor": 2
}
