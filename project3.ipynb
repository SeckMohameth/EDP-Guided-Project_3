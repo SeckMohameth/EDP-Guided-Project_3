{
 "cells": [
  {
   "cell_type": "code",
   "execution_count": 4,
   "metadata": {},
   "outputs": [
    {
     "name": "stdout",
     "output_type": "stream",
     "text": [
      "testing\n",
      "             timestamp  unit_id     unit_type empire_or_resistance  \\\n",
      "0  2024-07-11 09:58:43        1         at-st           resistance   \n",
      "1  2024-07-11 09:58:42        2         at-st           resistance   \n",
      "2  2024-07-11 09:58:41        3   tie_fighter           resistance   \n",
      "3  2024-07-11 09:58:40        4  tie_silencer               empire   \n",
      "4  2024-07-11 09:58:39        5  tie_silencer               empire   \n",
      "\n",
      "   location_x  location_y  destination_x  destination_y    homeworld  \n",
      "0           4           5              6             10        Cerea  \n",
      "1           8           5              4              4  Aleen Minor  \n",
      "2           6           2              5              8    Malastare  \n",
      "3           1           1              3              8        Cerea  \n",
      "4           6           3              4              8   Bestine IV  \n"
     ]
    }
   ],
   "source": [
    "import pandas as pd\n",
    "\n",
    "print(\"testing\")\n",
    "data = pd.read_csv(\"./troop_movements.csv\")\n",
    "print(data.head())\n"
   ]
  },
  {
   "cell_type": "code",
   "execution_count": 5,
   "metadata": {},
   "outputs": [
    {
     "name": "stdout",
     "output_type": "stream",
     "text": [
      "  empire_or_resistance  count\n",
      "0               empire    464\n",
      "1           resistance    536\n"
     ]
    }
   ],
   "source": [
    "factionCount = data.groupby(\"empire_or_resistance\").size().reset_index(name=\"count\")\n",
    "print(factionCount)"
   ]
  },
  {
   "cell_type": "code",
   "execution_count": 10,
   "metadata": {},
   "outputs": [
    {
     "data": {
      "text/plain": [
       "<bound method NDFrame.head of                timestamp  unit_id           unit_type empire_or_resistance  \\\n",
       "0    2024-07-11 09:58:43        1               at-st           resistance   \n",
       "1    2024-07-11 09:58:42        2               at-st           resistance   \n",
       "2    2024-07-11 09:58:41        3         tie_fighter           resistance   \n",
       "3    2024-07-11 09:58:40        4        tie_silencer               empire   \n",
       "4    2024-07-11 09:58:39        5        tie_silencer               empire   \n",
       "..                   ...      ...                 ...                  ...   \n",
       "995  2024-07-11 09:42:08      996        tie_silencer               empire   \n",
       "996  2024-07-11 09:42:07      997              x-wing           resistance   \n",
       "997  2024-07-11 09:42:06      998               at-st           resistance   \n",
       "998  2024-07-11 09:42:05      999        tie_silencer               empire   \n",
       "999  2024-07-11 09:42:04     1000  resistance_soldier           resistance   \n",
       "\n",
       "     location_x  location_y  destination_x  destination_y    homeworld  \\\n",
       "0             4           5              6             10        Cerea   \n",
       "1             8           5              4              4  Aleen Minor   \n",
       "2             6           2              5              8    Malastare   \n",
       "3             1           1              3              8        Cerea   \n",
       "4             6           3              4              8   Bestine IV   \n",
       "..          ...         ...            ...            ...          ...   \n",
       "995           3          10              7              2       Ryloth   \n",
       "996           1           8              8              6   Muunilinst   \n",
       "997           8           6              9              3   Bestine IV   \n",
       "998           6           4              4             10  Aleen Minor   \n",
       "999           6           5              4              8        Cerea   \n",
       "\n",
       "     is_resistance  \n",
       "0             True  \n",
       "1             True  \n",
       "2             True  \n",
       "3            False  \n",
       "4            False  \n",
       "..             ...  \n",
       "995          False  \n",
       "996           True  \n",
       "997           True  \n",
       "998          False  \n",
       "999           True  \n",
       "\n",
       "[1000 rows x 10 columns]>"
      ]
     },
     "execution_count": 10,
     "metadata": {},
     "output_type": "execute_result"
    }
   ],
   "source": [
    "data['is_resistance'] = data['empire_or_resistance'] == 'resistance'\n",
    "data.head"
   ]
  },
  {
   "cell_type": "code",
   "execution_count": null,
   "metadata": {},
   "outputs": [],
   "source": []
  }
 ],
 "metadata": {
  "kernelspec": {
   "display_name": "Python 3",
   "language": "python",
   "name": "python3"
  },
  "language_info": {
   "codemirror_mode": {
    "name": "ipython",
    "version": 3
   },
   "file_extension": ".py",
   "mimetype": "text/x-python",
   "name": "python",
   "nbconvert_exporter": "python",
   "pygments_lexer": "ipython3",
   "version": "3.12.3"
  }
 },
 "nbformat": 4,
 "nbformat_minor": 2
}
