{
 "cells": [
  {
   "cell_type": "code",
   "execution_count": 1,
   "metadata": {},
   "outputs": [
    {
     "name": "stdout",
     "output_type": "stream",
     "text": [
      "             timestamp  unit_id           unit_type empire_or_resistance  \\\n",
      "0  2024-07-11 09:53:13        1  resistance_soldier           resistance   \n",
      "1  2024-07-11 09:53:12        2              x-wing           resistance   \n",
      "2  2024-07-11 09:53:11        3              x-wing               empire   \n",
      "3  2024-07-11 09:53:10        4               at-st           resistance   \n",
      "4  2024-07-11 09:53:09        5             unknown           resistance   \n",
      "\n",
      "   location_x  location_y  destination_x  destination_y  homeworld  \n",
      "0           4           1              9              2   Alderaan  \n",
      "1           1           3              3              2    Quermia  \n",
      "2          10           6              5              2  Chandrila  \n",
      "3           5           8              5              1      Shili  \n",
      "4           5           7              9              5   Iridonia  \n"
     ]
    }
   ],
   "source": [
    "import pandas as pd\n",
    "\n",
    "data = pd.read_csv(\"troop_movements.csv\")\n",
    "print(data.head())"
   ]
  },
  {
   "cell_type": "code",
   "execution_count": 7,
   "metadata": {},
   "outputs": [
    {
     "name": "stdout",
     "output_type": "stream",
     "text": [
      "                      timestamp  unit_id  unit_type  location_x  location_y  \\\n",
      "empire_or_resistance                                                          \n",
      "empire                      527      527        527         527         527   \n",
      "resistance                  473      473        473         473         473   \n",
      "\n",
      "                      destination_x  destination_y  homeworld  \n",
      "empire_or_resistance                                           \n",
      "empire                          527            527        527  \n",
      "resistance                      473            473        473  \n"
     ]
    }
   ],
   "source": [
    "factionCount = data.groupby(\"empire_or_resistance\").count()\n",
    "print(factionCount)"
   ]
  },
  {
   "cell_type": "code",
   "execution_count": null,
   "metadata": {},
   "outputs": [],
   "source": []
  },
  {
   "cell_type": "code",
   "execution_count": null,
   "metadata": {},
   "outputs": [],
   "source": []
  }
 ],
 "metadata": {
  "kernelspec": {
   "display_name": "Python 3",
   "language": "python",
   "name": "python3"
  },
  "language_info": {
   "codemirror_mode": {
    "name": "ipython",
    "version": 3
   },
   "file_extension": ".py",
   "mimetype": "text/x-python",
   "name": "python",
   "nbconvert_exporter": "python",
   "pygments_lexer": "ipython3",
   "version": "3.12.3"
  }
 },
 "nbformat": 4,
 "nbformat_minor": 2
}
